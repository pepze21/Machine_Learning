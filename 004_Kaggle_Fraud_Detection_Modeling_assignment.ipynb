{
  "nbformat": 4,
  "nbformat_minor": 0,
  "metadata": {
    "colab": {
      "name": "004_Kaggle_Fraud_Detection_Modeling_전경표.ipynb",
      "provenance": [],
      "collapsed_sections": [
        "q2Pr7oBdYLdf",
        "hp2jzMV4Eb0e",
        "D9zdBsGKnLUo"
      ]
    },
    "kernelspec": {
      "name": "python3",
      "display_name": "Python 3"
    }
  },
  "cells": [
    {
      "cell_type": "markdown",
      "metadata": {
        "id": "q2Pr7oBdYLdf"
      },
      "source": [
        "# Kaggle 신용카드 부정결제 검출 (Google Drive Mount)\n",
        "https://www.kaggle.com/mlg-ulb/creditcardfraud\n",
        "## Credit Card Fraud Detection\n",
        "* creditcard.csv (284,807 * 31)\n",
        "* Class : '0' (정상결제), '1' (부정결제)\n",
        "* 부정 검출(Fraud Detection), 이상 탐지(Anomaly Detection)"
      ]
    },
    {
      "cell_type": "code",
      "metadata": {
        "id": "RbPgODpVzdHI"
      },
      "source": [
        "import warnings\n",
        "warnings.filterwarnings('ignore')"
      ],
      "execution_count": 1,
      "outputs": []
    },
    {
      "cell_type": "markdown",
      "metadata": {
        "id": "hp2jzMV4Eb0e"
      },
      "source": [
        "# I. Google Drive Mount\n",
        "* 'creditCardFraud.zip' 파일을 구글드라이브에 업로드 후 진행"
      ]
    },
    {
      "cell_type": "code",
      "metadata": {
        "id": "EkooevWlEpae",
        "colab": {
          "base_uri": "https://localhost:8080/"
        },
        "outputId": "f7a77bc5-901d-4d58-dab9-bb4cd9b133d7"
      },
      "source": [
        "from google.colab import drive\n",
        "\n",
        "drive.mount('/content/drive')"
      ],
      "execution_count": 2,
      "outputs": [
        {
          "output_type": "stream",
          "name": "stdout",
          "text": [
            "Mounted at /content/drive\n"
          ]
        }
      ]
    },
    {
      "cell_type": "markdown",
      "metadata": {
        "id": "rBrMKlsgEvV7"
      },
      "source": [
        "* 마운트 결과 확인"
      ]
    },
    {
      "cell_type": "code",
      "metadata": {
        "id": "ZAA_YjrVExu7",
        "colab": {
          "base_uri": "https://localhost:8080/"
        },
        "outputId": "42b72ac9-6d90-4ac0-f1a4-1d15b0907ba5"
      },
      "source": [
        "!ls -l '/content/drive/My Drive/Colab Notebooks/datasets/creditCardFraud.zip'"
      ],
      "execution_count": 3,
      "outputs": [
        {
          "output_type": "stream",
          "name": "stdout",
          "text": [
            "-rw------- 1 root root 69155672 Mar 31 15:04 '/content/drive/My Drive/Colab Notebooks/datasets/creditCardFraud.zip'\n"
          ]
        }
      ]
    },
    {
      "cell_type": "markdown",
      "metadata": {
        "id": "1DyFdyVxFyHK"
      },
      "source": [
        "# II. Data Preprocessing"
      ]
    },
    {
      "cell_type": "markdown",
      "metadata": {
        "id": "D9zdBsGKnLUo"
      },
      "source": [
        "> ## 1) Unzip 'creditCardFraud.zip'\n",
        "\n",
        "* Colab 파일시스템에 'creditcard.csv' 파일 생성"
      ]
    },
    {
      "cell_type": "code",
      "metadata": {
        "id": "WkuHaDXcnUtY",
        "colab": {
          "base_uri": "https://localhost:8080/"
        },
        "outputId": "198dac65-3135-4d8c-f3e0-9b2d112ad899"
      },
      "source": [
        "!unzip /content/drive/My\\ Drive/Colab\\ Notebooks/datasets/creditCardFraud.zip"
      ],
      "execution_count": 4,
      "outputs": [
        {
          "output_type": "stream",
          "name": "stdout",
          "text": [
            "Archive:  /content/drive/My Drive/Colab Notebooks/datasets/creditCardFraud.zip\n",
            "  inflating: creditcard.csv          \n"
          ]
        }
      ]
    },
    {
      "cell_type": "markdown",
      "metadata": {
        "id": "O_8T9fKaE1Dh"
      },
      "source": [
        "* creditcard.csv 파일 확인"
      ]
    },
    {
      "cell_type": "code",
      "metadata": {
        "id": "VcWMC7zwExLX",
        "colab": {
          "base_uri": "https://localhost:8080/"
        },
        "outputId": "dca2ede4-62b3-44b0-d48f-32c25c162f6a"
      },
      "source": [
        "!ls -l"
      ],
      "execution_count": 7,
      "outputs": [
        {
          "output_type": "stream",
          "name": "stdout",
          "text": [
            "total 147304\n",
            "-rw-r--r-- 1 root root 150828752 Sep 20  2019 creditcard.csv\n",
            "drwx------ 5 root root      4096 Sep 23 07:00 drive\n",
            "drwxr-xr-x 1 root root      4096 Sep 16 13:40 sample_data\n"
          ]
        }
      ]
    },
    {
      "cell_type": "markdown",
      "metadata": {
        "id": "C1IbUVmgFJWi"
      },
      "source": [
        "> ## 2) 데이터 읽어오기\n",
        "\n",
        "* pandas DataFrame"
      ]
    },
    {
      "cell_type": "code",
      "metadata": {
        "id": "oyKuNQuXEywU",
        "colab": {
          "base_uri": "https://localhost:8080/"
        },
        "outputId": "a3376251-c75e-48f1-b600-a6e1d91372ee"
      },
      "source": [
        "%%time\n",
        "\n",
        "import pandas as pd\n",
        "\n",
        "DF = pd.read_csv('creditcard.csv')\n",
        "\n",
        "DF.info()"
      ],
      "execution_count": 8,
      "outputs": [
        {
          "output_type": "stream",
          "name": "stdout",
          "text": [
            "<class 'pandas.core.frame.DataFrame'>\n",
            "RangeIndex: 284807 entries, 0 to 284806\n",
            "Data columns (total 31 columns):\n",
            " #   Column  Non-Null Count   Dtype  \n",
            "---  ------  --------------   -----  \n",
            " 0   Time    284807 non-null  float64\n",
            " 1   V1      284807 non-null  float64\n",
            " 2   V2      284807 non-null  float64\n",
            " 3   V3      284807 non-null  float64\n",
            " 4   V4      284807 non-null  float64\n",
            " 5   V5      284807 non-null  float64\n",
            " 6   V6      284807 non-null  float64\n",
            " 7   V7      284807 non-null  float64\n",
            " 8   V8      284807 non-null  float64\n",
            " 9   V9      284807 non-null  float64\n",
            " 10  V10     284807 non-null  float64\n",
            " 11  V11     284807 non-null  float64\n",
            " 12  V12     284807 non-null  float64\n",
            " 13  V13     284807 non-null  float64\n",
            " 14  V14     284807 non-null  float64\n",
            " 15  V15     284807 non-null  float64\n",
            " 16  V16     284807 non-null  float64\n",
            " 17  V17     284807 non-null  float64\n",
            " 18  V18     284807 non-null  float64\n",
            " 19  V19     284807 non-null  float64\n",
            " 20  V20     284807 non-null  float64\n",
            " 21  V21     284807 non-null  float64\n",
            " 22  V22     284807 non-null  float64\n",
            " 23  V23     284807 non-null  float64\n",
            " 24  V24     284807 non-null  float64\n",
            " 25  V25     284807 non-null  float64\n",
            " 26  V26     284807 non-null  float64\n",
            " 27  V27     284807 non-null  float64\n",
            " 28  V28     284807 non-null  float64\n",
            " 29  Amount  284807 non-null  float64\n",
            " 30  Class   284807 non-null  int64  \n",
            "dtypes: float64(30), int64(1)\n",
            "memory usage: 67.4 MB\n",
            "CPU times: user 2.67 s, sys: 179 ms, total: 2.84 s\n",
            "Wall time: 2.85 s\n"
          ]
        }
      ]
    },
    {
      "cell_type": "code",
      "metadata": {
        "id": "AAK4c1S8GCeR",
        "colab": {
          "base_uri": "https://localhost:8080/",
          "height": 223
        },
        "outputId": "dbea3843-99a9-43f3-b886-701d102916e2"
      },
      "source": [
        "DF.head()"
      ],
      "execution_count": 9,
      "outputs": [
        {
          "output_type": "execute_result",
          "data": {
            "text/html": [
              "<div>\n",
              "<style scoped>\n",
              "    .dataframe tbody tr th:only-of-type {\n",
              "        vertical-align: middle;\n",
              "    }\n",
              "\n",
              "    .dataframe tbody tr th {\n",
              "        vertical-align: top;\n",
              "    }\n",
              "\n",
              "    .dataframe thead th {\n",
              "        text-align: right;\n",
              "    }\n",
              "</style>\n",
              "<table border=\"1\" class=\"dataframe\">\n",
              "  <thead>\n",
              "    <tr style=\"text-align: right;\">\n",
              "      <th></th>\n",
              "      <th>Time</th>\n",
              "      <th>V1</th>\n",
              "      <th>V2</th>\n",
              "      <th>V3</th>\n",
              "      <th>V4</th>\n",
              "      <th>V5</th>\n",
              "      <th>V6</th>\n",
              "      <th>V7</th>\n",
              "      <th>V8</th>\n",
              "      <th>V9</th>\n",
              "      <th>V10</th>\n",
              "      <th>V11</th>\n",
              "      <th>V12</th>\n",
              "      <th>V13</th>\n",
              "      <th>V14</th>\n",
              "      <th>V15</th>\n",
              "      <th>V16</th>\n",
              "      <th>V17</th>\n",
              "      <th>V18</th>\n",
              "      <th>V19</th>\n",
              "      <th>V20</th>\n",
              "      <th>V21</th>\n",
              "      <th>V22</th>\n",
              "      <th>V23</th>\n",
              "      <th>V24</th>\n",
              "      <th>V25</th>\n",
              "      <th>V26</th>\n",
              "      <th>V27</th>\n",
              "      <th>V28</th>\n",
              "      <th>Amount</th>\n",
              "      <th>Class</th>\n",
              "    </tr>\n",
              "  </thead>\n",
              "  <tbody>\n",
              "    <tr>\n",
              "      <th>0</th>\n",
              "      <td>0.0</td>\n",
              "      <td>-1.359807</td>\n",
              "      <td>-0.072781</td>\n",
              "      <td>2.536347</td>\n",
              "      <td>1.378155</td>\n",
              "      <td>-0.338321</td>\n",
              "      <td>0.462388</td>\n",
              "      <td>0.239599</td>\n",
              "      <td>0.098698</td>\n",
              "      <td>0.363787</td>\n",
              "      <td>0.090794</td>\n",
              "      <td>-0.551600</td>\n",
              "      <td>-0.617801</td>\n",
              "      <td>-0.991390</td>\n",
              "      <td>-0.311169</td>\n",
              "      <td>1.468177</td>\n",
              "      <td>-0.470401</td>\n",
              "      <td>0.207971</td>\n",
              "      <td>0.025791</td>\n",
              "      <td>0.403993</td>\n",
              "      <td>0.251412</td>\n",
              "      <td>-0.018307</td>\n",
              "      <td>0.277838</td>\n",
              "      <td>-0.110474</td>\n",
              "      <td>0.066928</td>\n",
              "      <td>0.128539</td>\n",
              "      <td>-0.189115</td>\n",
              "      <td>0.133558</td>\n",
              "      <td>-0.021053</td>\n",
              "      <td>149.62</td>\n",
              "      <td>0</td>\n",
              "    </tr>\n",
              "    <tr>\n",
              "      <th>1</th>\n",
              "      <td>0.0</td>\n",
              "      <td>1.191857</td>\n",
              "      <td>0.266151</td>\n",
              "      <td>0.166480</td>\n",
              "      <td>0.448154</td>\n",
              "      <td>0.060018</td>\n",
              "      <td>-0.082361</td>\n",
              "      <td>-0.078803</td>\n",
              "      <td>0.085102</td>\n",
              "      <td>-0.255425</td>\n",
              "      <td>-0.166974</td>\n",
              "      <td>1.612727</td>\n",
              "      <td>1.065235</td>\n",
              "      <td>0.489095</td>\n",
              "      <td>-0.143772</td>\n",
              "      <td>0.635558</td>\n",
              "      <td>0.463917</td>\n",
              "      <td>-0.114805</td>\n",
              "      <td>-0.183361</td>\n",
              "      <td>-0.145783</td>\n",
              "      <td>-0.069083</td>\n",
              "      <td>-0.225775</td>\n",
              "      <td>-0.638672</td>\n",
              "      <td>0.101288</td>\n",
              "      <td>-0.339846</td>\n",
              "      <td>0.167170</td>\n",
              "      <td>0.125895</td>\n",
              "      <td>-0.008983</td>\n",
              "      <td>0.014724</td>\n",
              "      <td>2.69</td>\n",
              "      <td>0</td>\n",
              "    </tr>\n",
              "    <tr>\n",
              "      <th>2</th>\n",
              "      <td>1.0</td>\n",
              "      <td>-1.358354</td>\n",
              "      <td>-1.340163</td>\n",
              "      <td>1.773209</td>\n",
              "      <td>0.379780</td>\n",
              "      <td>-0.503198</td>\n",
              "      <td>1.800499</td>\n",
              "      <td>0.791461</td>\n",
              "      <td>0.247676</td>\n",
              "      <td>-1.514654</td>\n",
              "      <td>0.207643</td>\n",
              "      <td>0.624501</td>\n",
              "      <td>0.066084</td>\n",
              "      <td>0.717293</td>\n",
              "      <td>-0.165946</td>\n",
              "      <td>2.345865</td>\n",
              "      <td>-2.890083</td>\n",
              "      <td>1.109969</td>\n",
              "      <td>-0.121359</td>\n",
              "      <td>-2.261857</td>\n",
              "      <td>0.524980</td>\n",
              "      <td>0.247998</td>\n",
              "      <td>0.771679</td>\n",
              "      <td>0.909412</td>\n",
              "      <td>-0.689281</td>\n",
              "      <td>-0.327642</td>\n",
              "      <td>-0.139097</td>\n",
              "      <td>-0.055353</td>\n",
              "      <td>-0.059752</td>\n",
              "      <td>378.66</td>\n",
              "      <td>0</td>\n",
              "    </tr>\n",
              "    <tr>\n",
              "      <th>3</th>\n",
              "      <td>1.0</td>\n",
              "      <td>-0.966272</td>\n",
              "      <td>-0.185226</td>\n",
              "      <td>1.792993</td>\n",
              "      <td>-0.863291</td>\n",
              "      <td>-0.010309</td>\n",
              "      <td>1.247203</td>\n",
              "      <td>0.237609</td>\n",
              "      <td>0.377436</td>\n",
              "      <td>-1.387024</td>\n",
              "      <td>-0.054952</td>\n",
              "      <td>-0.226487</td>\n",
              "      <td>0.178228</td>\n",
              "      <td>0.507757</td>\n",
              "      <td>-0.287924</td>\n",
              "      <td>-0.631418</td>\n",
              "      <td>-1.059647</td>\n",
              "      <td>-0.684093</td>\n",
              "      <td>1.965775</td>\n",
              "      <td>-1.232622</td>\n",
              "      <td>-0.208038</td>\n",
              "      <td>-0.108300</td>\n",
              "      <td>0.005274</td>\n",
              "      <td>-0.190321</td>\n",
              "      <td>-1.175575</td>\n",
              "      <td>0.647376</td>\n",
              "      <td>-0.221929</td>\n",
              "      <td>0.062723</td>\n",
              "      <td>0.061458</td>\n",
              "      <td>123.50</td>\n",
              "      <td>0</td>\n",
              "    </tr>\n",
              "    <tr>\n",
              "      <th>4</th>\n",
              "      <td>2.0</td>\n",
              "      <td>-1.158233</td>\n",
              "      <td>0.877737</td>\n",
              "      <td>1.548718</td>\n",
              "      <td>0.403034</td>\n",
              "      <td>-0.407193</td>\n",
              "      <td>0.095921</td>\n",
              "      <td>0.592941</td>\n",
              "      <td>-0.270533</td>\n",
              "      <td>0.817739</td>\n",
              "      <td>0.753074</td>\n",
              "      <td>-0.822843</td>\n",
              "      <td>0.538196</td>\n",
              "      <td>1.345852</td>\n",
              "      <td>-1.119670</td>\n",
              "      <td>0.175121</td>\n",
              "      <td>-0.451449</td>\n",
              "      <td>-0.237033</td>\n",
              "      <td>-0.038195</td>\n",
              "      <td>0.803487</td>\n",
              "      <td>0.408542</td>\n",
              "      <td>-0.009431</td>\n",
              "      <td>0.798278</td>\n",
              "      <td>-0.137458</td>\n",
              "      <td>0.141267</td>\n",
              "      <td>-0.206010</td>\n",
              "      <td>0.502292</td>\n",
              "      <td>0.219422</td>\n",
              "      <td>0.215153</td>\n",
              "      <td>69.99</td>\n",
              "      <td>0</td>\n",
              "    </tr>\n",
              "  </tbody>\n",
              "</table>\n",
              "</div>"
            ],
            "text/plain": [
              "   Time        V1        V2        V3  ...       V27       V28  Amount  Class\n",
              "0   0.0 -1.359807 -0.072781  2.536347  ...  0.133558 -0.021053  149.62      0\n",
              "1   0.0  1.191857  0.266151  0.166480  ... -0.008983  0.014724    2.69      0\n",
              "2   1.0 -1.358354 -1.340163  1.773209  ... -0.055353 -0.059752  378.66      0\n",
              "3   1.0 -0.966272 -0.185226  1.792993  ...  0.062723  0.061458  123.50      0\n",
              "4   2.0 -1.158233  0.877737  1.548718  ...  0.219422  0.215153   69.99      0\n",
              "\n",
              "[5 rows x 31 columns]"
            ]
          },
          "metadata": {},
          "execution_count": 9
        }
      ]
    },
    {
      "cell_type": "markdown",
      "metadata": {
        "id": "HIEYGzLnLuxL"
      },
      "source": [
        "* '0' (정상) Class와 '1' (부정) Class 개수"
      ]
    },
    {
      "cell_type": "code",
      "metadata": {
        "id": "E4NroBx4JDeP",
        "colab": {
          "base_uri": "https://localhost:8080/"
        },
        "outputId": "50cd3313-8f77-4b1c-9101-335a1e72b642"
      },
      "source": [
        "DF.Class.value_counts()"
      ],
      "execution_count": 10,
      "outputs": [
        {
          "output_type": "execute_result",
          "data": {
            "text/plain": [
              "0    284315\n",
              "1       492\n",
              "Name: Class, dtype: int64"
            ]
          },
          "metadata": {},
          "execution_count": 10
        }
      ]
    },
    {
      "cell_type": "markdown",
      "metadata": {
        "id": "OncXWy-mMF2j"
      },
      "source": [
        "* '0' (정상) Class와 '1' (부정) Class 비율"
      ]
    },
    {
      "cell_type": "code",
      "metadata": {
        "id": "8HWyf0GMJipF",
        "colab": {
          "base_uri": "https://localhost:8080/"
        },
        "outputId": "c148fc44-4f34-4cdf-9f3c-e3ba819ab4c4"
      },
      "source": [
        "(DF.Class.value_counts() / DF.shape[0]) * 100"
      ],
      "execution_count": 11,
      "outputs": [
        {
          "output_type": "execute_result",
          "data": {
            "text/plain": [
              "0    99.827251\n",
              "1     0.172749\n",
              "Name: Class, dtype: float64"
            ]
          },
          "metadata": {},
          "execution_count": 11
        }
      ]
    },
    {
      "cell_type": "markdown",
      "metadata": {
        "id": "rUf0Vq7kG0FQ"
      },
      "source": [
        "> ## 3) Time 열(Column) 삭제"
      ]
    },
    {
      "cell_type": "code",
      "metadata": {
        "id": "ECv33P4FHE1F",
        "colab": {
          "base_uri": "https://localhost:8080/",
          "height": 100
        },
        "outputId": "177afa3c-b325-4bc9-eea6-f31f1d71a8b9"
      },
      "source": [
        "DF.drop('Time', axis = 1, inplace = True)\n",
        "\n",
        "DF.head(1)"
      ],
      "execution_count": 12,
      "outputs": [
        {
          "output_type": "execute_result",
          "data": {
            "text/html": [
              "<div>\n",
              "<style scoped>\n",
              "    .dataframe tbody tr th:only-of-type {\n",
              "        vertical-align: middle;\n",
              "    }\n",
              "\n",
              "    .dataframe tbody tr th {\n",
              "        vertical-align: top;\n",
              "    }\n",
              "\n",
              "    .dataframe thead th {\n",
              "        text-align: right;\n",
              "    }\n",
              "</style>\n",
              "<table border=\"1\" class=\"dataframe\">\n",
              "  <thead>\n",
              "    <tr style=\"text-align: right;\">\n",
              "      <th></th>\n",
              "      <th>V1</th>\n",
              "      <th>V2</th>\n",
              "      <th>V3</th>\n",
              "      <th>V4</th>\n",
              "      <th>V5</th>\n",
              "      <th>V6</th>\n",
              "      <th>V7</th>\n",
              "      <th>V8</th>\n",
              "      <th>V9</th>\n",
              "      <th>V10</th>\n",
              "      <th>V11</th>\n",
              "      <th>V12</th>\n",
              "      <th>V13</th>\n",
              "      <th>V14</th>\n",
              "      <th>V15</th>\n",
              "      <th>V16</th>\n",
              "      <th>V17</th>\n",
              "      <th>V18</th>\n",
              "      <th>V19</th>\n",
              "      <th>V20</th>\n",
              "      <th>V21</th>\n",
              "      <th>V22</th>\n",
              "      <th>V23</th>\n",
              "      <th>V24</th>\n",
              "      <th>V25</th>\n",
              "      <th>V26</th>\n",
              "      <th>V27</th>\n",
              "      <th>V28</th>\n",
              "      <th>Amount</th>\n",
              "      <th>Class</th>\n",
              "    </tr>\n",
              "  </thead>\n",
              "  <tbody>\n",
              "    <tr>\n",
              "      <th>0</th>\n",
              "      <td>-1.359807</td>\n",
              "      <td>-0.072781</td>\n",
              "      <td>2.536347</td>\n",
              "      <td>1.378155</td>\n",
              "      <td>-0.338321</td>\n",
              "      <td>0.462388</td>\n",
              "      <td>0.239599</td>\n",
              "      <td>0.098698</td>\n",
              "      <td>0.363787</td>\n",
              "      <td>0.090794</td>\n",
              "      <td>-0.5516</td>\n",
              "      <td>-0.617801</td>\n",
              "      <td>-0.99139</td>\n",
              "      <td>-0.311169</td>\n",
              "      <td>1.468177</td>\n",
              "      <td>-0.470401</td>\n",
              "      <td>0.207971</td>\n",
              "      <td>0.025791</td>\n",
              "      <td>0.403993</td>\n",
              "      <td>0.251412</td>\n",
              "      <td>-0.018307</td>\n",
              "      <td>0.277838</td>\n",
              "      <td>-0.110474</td>\n",
              "      <td>0.066928</td>\n",
              "      <td>0.128539</td>\n",
              "      <td>-0.189115</td>\n",
              "      <td>0.133558</td>\n",
              "      <td>-0.021053</td>\n",
              "      <td>149.62</td>\n",
              "      <td>0</td>\n",
              "    </tr>\n",
              "  </tbody>\n",
              "</table>\n",
              "</div>"
            ],
            "text/plain": [
              "         V1        V2        V3        V4  ...       V27       V28  Amount  Class\n",
              "0 -1.359807 -0.072781  2.536347  1.378155  ...  0.133558 -0.021053  149.62      0\n",
              "\n",
              "[1 rows x 30 columns]"
            ]
          },
          "metadata": {},
          "execution_count": 12
        }
      ]
    },
    {
      "cell_type": "markdown",
      "metadata": {
        "id": "uF_FNdiaHcFi"
      },
      "source": [
        "> ## 4) train_test_split\n",
        "\n",
        "* X (Input), y (Output) 지정"
      ]
    },
    {
      "cell_type": "code",
      "metadata": {
        "id": "IRQX3mslHhC2",
        "colab": {
          "base_uri": "https://localhost:8080/"
        },
        "outputId": "c73974bc-6fe1-4402-dac9-b6eccf89298a"
      },
      "source": [
        "X = DF.iloc[:,:-1]\n",
        "y = DF.iloc[:, -1]\n",
        "\n",
        "X.shape, y.shape"
      ],
      "execution_count": 13,
      "outputs": [
        {
          "output_type": "execute_result",
          "data": {
            "text/plain": [
              "((284807, 29), (284807,))"
            ]
          },
          "metadata": {},
          "execution_count": 13
        }
      ]
    },
    {
      "cell_type": "markdown",
      "metadata": {
        "id": "LPnsXlPpMj0i"
      },
      "source": [
        "> ### (1) Without 'stratify'"
      ]
    },
    {
      "cell_type": "code",
      "metadata": {
        "id": "UgKosLsyJ5yo",
        "colab": {
          "base_uri": "https://localhost:8080/"
        },
        "outputId": "4ea73b0f-2e1e-4109-d769-537e399c83a9"
      },
      "source": [
        "from sklearn.model_selection import train_test_split \n",
        "\n",
        "X_train, X_test, y_train, y_test = train_test_split(X, y,\n",
        "                                                    test_size = 0.3,\n",
        "                                                    random_state = 2045)\n",
        "\n",
        "X_train.shape, y_train.shape, X_test.shape, y_test.shape"
      ],
      "execution_count": 14,
      "outputs": [
        {
          "output_type": "execute_result",
          "data": {
            "text/plain": [
              "((199364, 29), (199364,), (85443, 29), (85443,))"
            ]
          },
          "metadata": {},
          "execution_count": 14
        }
      ]
    },
    {
      "cell_type": "markdown",
      "metadata": {
        "id": "-H-1Z9-QM2Op"
      },
      "source": [
        "* Train_Data와 Test_Data의 1 (부정) 비율이 불균형"
      ]
    },
    {
      "cell_type": "code",
      "metadata": {
        "id": "-wrtnXcGJ8-R",
        "colab": {
          "base_uri": "https://localhost:8080/"
        },
        "outputId": "75b897dc-ca4f-4187-95b8-67f4f3c663f7"
      },
      "source": [
        "print('Train_Data :','\\n', (y_train.value_counts() / y_train.shape[0]) * 100)\n",
        "print('Test_Data :','\\n', (y_test.value_counts() / y_test.shape[0]) * 100)"
      ],
      "execution_count": 15,
      "outputs": [
        {
          "output_type": "stream",
          "name": "stdout",
          "text": [
            "Train_Data : \n",
            " 0    99.825445\n",
            "1     0.174555\n",
            "Name: Class, dtype: float64\n",
            "Test_Data : \n",
            " 0    99.831467\n",
            "1     0.168533\n",
            "Name: Class, dtype: float64\n"
          ]
        }
      ]
    },
    {
      "cell_type": "markdown",
      "metadata": {
        "id": "f53LeC-IMx_T"
      },
      "source": [
        "> ### (2) With 'Stratify'"
      ]
    },
    {
      "cell_type": "code",
      "metadata": {
        "id": "i4e13zFqH0xP",
        "colab": {
          "base_uri": "https://localhost:8080/"
        },
        "outputId": "34f9ea3f-70fd-4814-c69b-bc2697d41ad7"
      },
      "source": [
        "from sklearn.model_selection import train_test_split \n",
        "\n",
        "X_train, X_test, y_train, y_test = train_test_split(X, y,\n",
        "                                                    test_size = 0.3,\n",
        "                                                    stratify = y,\n",
        "                                                    random_state = 2045)\n",
        "\n",
        "X_train.shape, y_train.shape, X_test.shape, y_test.shape"
      ],
      "execution_count": 16,
      "outputs": [
        {
          "output_type": "execute_result",
          "data": {
            "text/plain": [
              "((199364, 29), (199364,), (85443, 29), (85443,))"
            ]
          },
          "metadata": {},
          "execution_count": 16
        }
      ]
    },
    {
      "cell_type": "markdown",
      "metadata": {
        "id": "q8NA1xnGNTtY"
      },
      "source": [
        "* Train_Data와 Test_Data의 1 (부정) 비율이 균형"
      ]
    },
    {
      "cell_type": "code",
      "metadata": {
        "id": "FMk7PWicKyDB",
        "colab": {
          "base_uri": "https://localhost:8080/"
        },
        "outputId": "d9ed24af-7106-4880-b594-75a4e87966b0"
      },
      "source": [
        "print('Train_Data :','\\n', (y_train.value_counts() / y_train.shape[0]) * 100)\n",
        "print('Test_Data :','\\n', (y_test.value_counts() / y_test.shape[0]) * 100)"
      ],
      "execution_count": 17,
      "outputs": [
        {
          "output_type": "stream",
          "name": "stdout",
          "text": [
            "Train_Data : \n",
            " 0    99.827451\n",
            "1     0.172549\n",
            "Name: Class, dtype: float64\n",
            "Test_Data : \n",
            " 0    99.826785\n",
            "1     0.173215\n",
            "Name: Class, dtype: float64\n"
          ]
        }
      ]
    },
    {
      "cell_type": "markdown",
      "metadata": {
        "id": "IjRGwPJGK413"
      },
      "source": [
        "# III. Modeling"
      ]
    },
    {
      "cell_type": "code",
      "metadata": {
        "id": "wcXx3fIReYDY"
      },
      "source": [
        "import seaborn as sns\n",
        "import matplotlib.pyplot as plt\n",
        "from sklearn.model_selection import train_test_split\n",
        "from sklearn.ensemble import RandomForestClassifier\n",
        "from sklearn.metrics import confusion_matrix, accuracy_score\n",
        "from sklearn.model_selection import GridSearchCV, KFold\n",
        "from datetime import datetime"
      ],
      "execution_count": 18,
      "outputs": []
    },
    {
      "cell_type": "code",
      "metadata": {
        "colab": {
          "base_uri": "https://localhost:8080/",
          "height": 1000
        },
        "id": "vNyBoWz0evvh",
        "outputId": "662928a1-c642-410f-c586-8809d07d141e"
      },
      "source": [
        "DF.corr()"
      ],
      "execution_count": 19,
      "outputs": [
        {
          "output_type": "execute_result",
          "data": {
            "text/html": [
              "<div>\n",
              "<style scoped>\n",
              "    .dataframe tbody tr th:only-of-type {\n",
              "        vertical-align: middle;\n",
              "    }\n",
              "\n",
              "    .dataframe tbody tr th {\n",
              "        vertical-align: top;\n",
              "    }\n",
              "\n",
              "    .dataframe thead th {\n",
              "        text-align: right;\n",
              "    }\n",
              "</style>\n",
              "<table border=\"1\" class=\"dataframe\">\n",
              "  <thead>\n",
              "    <tr style=\"text-align: right;\">\n",
              "      <th></th>\n",
              "      <th>V1</th>\n",
              "      <th>V2</th>\n",
              "      <th>V3</th>\n",
              "      <th>V4</th>\n",
              "      <th>V5</th>\n",
              "      <th>V6</th>\n",
              "      <th>V7</th>\n",
              "      <th>V8</th>\n",
              "      <th>V9</th>\n",
              "      <th>V10</th>\n",
              "      <th>V11</th>\n",
              "      <th>V12</th>\n",
              "      <th>V13</th>\n",
              "      <th>V14</th>\n",
              "      <th>V15</th>\n",
              "      <th>V16</th>\n",
              "      <th>V17</th>\n",
              "      <th>V18</th>\n",
              "      <th>V19</th>\n",
              "      <th>V20</th>\n",
              "      <th>V21</th>\n",
              "      <th>V22</th>\n",
              "      <th>V23</th>\n",
              "      <th>V24</th>\n",
              "      <th>V25</th>\n",
              "      <th>V26</th>\n",
              "      <th>V27</th>\n",
              "      <th>V28</th>\n",
              "      <th>Amount</th>\n",
              "      <th>Class</th>\n",
              "    </tr>\n",
              "  </thead>\n",
              "  <tbody>\n",
              "    <tr>\n",
              "      <th>V1</th>\n",
              "      <td>1.000000e+00</td>\n",
              "      <td>4.697350e-17</td>\n",
              "      <td>-1.424390e-15</td>\n",
              "      <td>1.755316e-17</td>\n",
              "      <td>6.391162e-17</td>\n",
              "      <td>2.398071e-16</td>\n",
              "      <td>1.991550e-15</td>\n",
              "      <td>-9.490675e-17</td>\n",
              "      <td>2.169581e-16</td>\n",
              "      <td>7.433820e-17</td>\n",
              "      <td>2.438580e-16</td>\n",
              "      <td>2.422086e-16</td>\n",
              "      <td>-2.115458e-16</td>\n",
              "      <td>9.352582e-16</td>\n",
              "      <td>-3.252451e-16</td>\n",
              "      <td>6.308789e-16</td>\n",
              "      <td>-5.011524e-16</td>\n",
              "      <td>2.870125e-16</td>\n",
              "      <td>1.818128e-16</td>\n",
              "      <td>1.036959e-16</td>\n",
              "      <td>-1.755072e-16</td>\n",
              "      <td>7.477367e-17</td>\n",
              "      <td>9.808705e-16</td>\n",
              "      <td>7.354269e-17</td>\n",
              "      <td>-9.805358e-16</td>\n",
              "      <td>-8.621897e-17</td>\n",
              "      <td>3.208233e-17</td>\n",
              "      <td>9.820892e-16</td>\n",
              "      <td>-0.227709</td>\n",
              "      <td>-0.101347</td>\n",
              "    </tr>\n",
              "    <tr>\n",
              "      <th>V2</th>\n",
              "      <td>4.697350e-17</td>\n",
              "      <td>1.000000e+00</td>\n",
              "      <td>2.512175e-16</td>\n",
              "      <td>-1.126388e-16</td>\n",
              "      <td>-2.039868e-16</td>\n",
              "      <td>5.024680e-16</td>\n",
              "      <td>3.966486e-16</td>\n",
              "      <td>-4.413984e-17</td>\n",
              "      <td>-5.728718e-17</td>\n",
              "      <td>-4.782388e-16</td>\n",
              "      <td>9.468995e-16</td>\n",
              "      <td>-6.588252e-16</td>\n",
              "      <td>3.854521e-16</td>\n",
              "      <td>-2.541036e-16</td>\n",
              "      <td>2.831060e-16</td>\n",
              "      <td>4.934097e-17</td>\n",
              "      <td>-9.883008e-16</td>\n",
              "      <td>2.636654e-16</td>\n",
              "      <td>9.528280e-17</td>\n",
              "      <td>-9.309954e-16</td>\n",
              "      <td>8.444409e-17</td>\n",
              "      <td>2.500830e-16</td>\n",
              "      <td>1.059562e-16</td>\n",
              "      <td>-8.142354e-18</td>\n",
              "      <td>-4.261894e-17</td>\n",
              "      <td>2.601622e-16</td>\n",
              "      <td>-4.478472e-16</td>\n",
              "      <td>-3.676415e-16</td>\n",
              "      <td>-0.531409</td>\n",
              "      <td>0.091289</td>\n",
              "    </tr>\n",
              "    <tr>\n",
              "      <th>V3</th>\n",
              "      <td>-1.424390e-15</td>\n",
              "      <td>2.512175e-16</td>\n",
              "      <td>1.000000e+00</td>\n",
              "      <td>-3.416910e-16</td>\n",
              "      <td>-1.436514e-15</td>\n",
              "      <td>1.431581e-15</td>\n",
              "      <td>2.168574e-15</td>\n",
              "      <td>3.433113e-16</td>\n",
              "      <td>-4.233770e-16</td>\n",
              "      <td>6.289267e-16</td>\n",
              "      <td>-5.501758e-17</td>\n",
              "      <td>2.206522e-16</td>\n",
              "      <td>-6.883375e-16</td>\n",
              "      <td>4.271336e-16</td>\n",
              "      <td>1.122756e-16</td>\n",
              "      <td>1.183364e-15</td>\n",
              "      <td>4.576619e-17</td>\n",
              "      <td>5.427965e-16</td>\n",
              "      <td>2.576773e-16</td>\n",
              "      <td>-9.429297e-16</td>\n",
              "      <td>-2.971969e-17</td>\n",
              "      <td>4.648259e-16</td>\n",
              "      <td>2.115206e-17</td>\n",
              "      <td>-9.351637e-17</td>\n",
              "      <td>4.771164e-16</td>\n",
              "      <td>6.521501e-16</td>\n",
              "      <td>6.239832e-16</td>\n",
              "      <td>7.726948e-16</td>\n",
              "      <td>-0.210880</td>\n",
              "      <td>-0.192961</td>\n",
              "    </tr>\n",
              "    <tr>\n",
              "      <th>V4</th>\n",
              "      <td>1.755316e-17</td>\n",
              "      <td>-1.126388e-16</td>\n",
              "      <td>-3.416910e-16</td>\n",
              "      <td>1.000000e+00</td>\n",
              "      <td>-1.940929e-15</td>\n",
              "      <td>-2.712659e-16</td>\n",
              "      <td>1.556330e-16</td>\n",
              "      <td>5.195643e-16</td>\n",
              "      <td>3.859585e-16</td>\n",
              "      <td>6.055490e-16</td>\n",
              "      <td>-2.083600e-16</td>\n",
              "      <td>-5.657963e-16</td>\n",
              "      <td>-1.506129e-16</td>\n",
              "      <td>-8.522435e-17</td>\n",
              "      <td>-1.507718e-16</td>\n",
              "      <td>-6.939204e-16</td>\n",
              "      <td>-4.397925e-16</td>\n",
              "      <td>1.493667e-16</td>\n",
              "      <td>-2.656938e-16</td>\n",
              "      <td>-3.223123e-16</td>\n",
              "      <td>-9.976950e-17</td>\n",
              "      <td>2.099922e-16</td>\n",
              "      <td>6.002528e-17</td>\n",
              "      <td>2.229738e-16</td>\n",
              "      <td>5.394585e-16</td>\n",
              "      <td>-6.179751e-16</td>\n",
              "      <td>-6.403423e-17</td>\n",
              "      <td>-5.863664e-17</td>\n",
              "      <td>0.098732</td>\n",
              "      <td>0.133447</td>\n",
              "    </tr>\n",
              "    <tr>\n",
              "      <th>V5</th>\n",
              "      <td>6.391162e-17</td>\n",
              "      <td>-2.039868e-16</td>\n",
              "      <td>-1.436514e-15</td>\n",
              "      <td>-1.940929e-15</td>\n",
              "      <td>1.000000e+00</td>\n",
              "      <td>7.926364e-16</td>\n",
              "      <td>-4.209851e-16</td>\n",
              "      <td>7.589187e-16</td>\n",
              "      <td>4.205206e-16</td>\n",
              "      <td>-6.601716e-16</td>\n",
              "      <td>7.342759e-16</td>\n",
              "      <td>3.761033e-16</td>\n",
              "      <td>-9.578659e-16</td>\n",
              "      <td>-3.634803e-16</td>\n",
              "      <td>-5.132620e-16</td>\n",
              "      <td>-3.517076e-16</td>\n",
              "      <td>1.425729e-16</td>\n",
              "      <td>1.109525e-15</td>\n",
              "      <td>-3.138234e-16</td>\n",
              "      <td>2.076048e-16</td>\n",
              "      <td>-1.368701e-16</td>\n",
              "      <td>5.060029e-16</td>\n",
              "      <td>1.637596e-16</td>\n",
              "      <td>-9.286095e-16</td>\n",
              "      <td>5.625102e-16</td>\n",
              "      <td>9.144690e-16</td>\n",
              "      <td>4.465960e-16</td>\n",
              "      <td>-3.299167e-16</td>\n",
              "      <td>-0.386356</td>\n",
              "      <td>-0.094974</td>\n",
              "    </tr>\n",
              "    <tr>\n",
              "      <th>V6</th>\n",
              "      <td>2.398071e-16</td>\n",
              "      <td>5.024680e-16</td>\n",
              "      <td>1.431581e-15</td>\n",
              "      <td>-2.712659e-16</td>\n",
              "      <td>7.926364e-16</td>\n",
              "      <td>1.000000e+00</td>\n",
              "      <td>1.429426e-16</td>\n",
              "      <td>-1.707421e-16</td>\n",
              "      <td>1.114447e-16</td>\n",
              "      <td>2.850776e-16</td>\n",
              "      <td>4.865799e-16</td>\n",
              "      <td>2.140589e-16</td>\n",
              "      <td>-2.268061e-16</td>\n",
              "      <td>3.452801e-16</td>\n",
              "      <td>-6.368111e-18</td>\n",
              "      <td>-2.477917e-16</td>\n",
              "      <td>3.567582e-16</td>\n",
              "      <td>2.811474e-16</td>\n",
              "      <td>2.717167e-16</td>\n",
              "      <td>1.898638e-16</td>\n",
              "      <td>-1.575903e-16</td>\n",
              "      <td>-3.362902e-16</td>\n",
              "      <td>-7.232186e-17</td>\n",
              "      <td>-1.261867e-15</td>\n",
              "      <td>1.081933e-15</td>\n",
              "      <td>-2.378414e-16</td>\n",
              "      <td>-2.623818e-16</td>\n",
              "      <td>4.813155e-16</td>\n",
              "      <td>0.215981</td>\n",
              "      <td>-0.043643</td>\n",
              "    </tr>\n",
              "    <tr>\n",
              "      <th>V7</th>\n",
              "      <td>1.991550e-15</td>\n",
              "      <td>3.966486e-16</td>\n",
              "      <td>2.168574e-15</td>\n",
              "      <td>1.556330e-16</td>\n",
              "      <td>-4.209851e-16</td>\n",
              "      <td>1.429426e-16</td>\n",
              "      <td>1.000000e+00</td>\n",
              "      <td>-8.691834e-17</td>\n",
              "      <td>7.933251e-16</td>\n",
              "      <td>3.043333e-17</td>\n",
              "      <td>-1.084105e-15</td>\n",
              "      <td>1.510045e-15</td>\n",
              "      <td>-9.892325e-17</td>\n",
              "      <td>-1.729462e-16</td>\n",
              "      <td>1.936832e-17</td>\n",
              "      <td>2.893672e-16</td>\n",
              "      <td>1.149692e-15</td>\n",
              "      <td>-1.116789e-16</td>\n",
              "      <td>-2.874017e-16</td>\n",
              "      <td>1.744242e-16</td>\n",
              "      <td>1.938604e-16</td>\n",
              "      <td>-1.058131e-15</td>\n",
              "      <td>2.327911e-16</td>\n",
              "      <td>-2.589727e-17</td>\n",
              "      <td>1.174169e-15</td>\n",
              "      <td>-7.334507e-16</td>\n",
              "      <td>-5.886825e-16</td>\n",
              "      <td>-6.836764e-17</td>\n",
              "      <td>0.397311</td>\n",
              "      <td>-0.187257</td>\n",
              "    </tr>\n",
              "    <tr>\n",
              "      <th>V8</th>\n",
              "      <td>-9.490675e-17</td>\n",
              "      <td>-4.413984e-17</td>\n",
              "      <td>3.433113e-16</td>\n",
              "      <td>5.195643e-16</td>\n",
              "      <td>7.589187e-16</td>\n",
              "      <td>-1.707421e-16</td>\n",
              "      <td>-8.691834e-17</td>\n",
              "      <td>1.000000e+00</td>\n",
              "      <td>2.900829e-16</td>\n",
              "      <td>9.051847e-17</td>\n",
              "      <td>1.954747e-16</td>\n",
              "      <td>-6.266057e-17</td>\n",
              "      <td>-2.382948e-16</td>\n",
              "      <td>-1.131098e-16</td>\n",
              "      <td>2.021491e-16</td>\n",
              "      <td>5.027192e-16</td>\n",
              "      <td>-3.508777e-16</td>\n",
              "      <td>-4.093852e-16</td>\n",
              "      <td>-5.339821e-16</td>\n",
              "      <td>-1.095534e-16</td>\n",
              "      <td>-2.412439e-16</td>\n",
              "      <td>5.475559e-16</td>\n",
              "      <td>3.897104e-16</td>\n",
              "      <td>-1.802967e-16</td>\n",
              "      <td>-1.390791e-16</td>\n",
              "      <td>-1.209975e-16</td>\n",
              "      <td>1.733633e-16</td>\n",
              "      <td>-4.484325e-16</td>\n",
              "      <td>-0.103079</td>\n",
              "      <td>0.019875</td>\n",
              "    </tr>\n",
              "    <tr>\n",
              "      <th>V9</th>\n",
              "      <td>2.169581e-16</td>\n",
              "      <td>-5.728718e-17</td>\n",
              "      <td>-4.233770e-16</td>\n",
              "      <td>3.859585e-16</td>\n",
              "      <td>4.205206e-16</td>\n",
              "      <td>1.114447e-16</td>\n",
              "      <td>7.933251e-16</td>\n",
              "      <td>2.900829e-16</td>\n",
              "      <td>1.000000e+00</td>\n",
              "      <td>-2.771761e-16</td>\n",
              "      <td>4.682341e-16</td>\n",
              "      <td>-2.445230e-15</td>\n",
              "      <td>-2.650351e-16</td>\n",
              "      <td>2.343317e-16</td>\n",
              "      <td>-1.588105e-15</td>\n",
              "      <td>-3.251906e-16</td>\n",
              "      <td>6.535992e-16</td>\n",
              "      <td>1.203843e-16</td>\n",
              "      <td>1.120752e-16</td>\n",
              "      <td>-4.340941e-16</td>\n",
              "      <td>4.578389e-17</td>\n",
              "      <td>2.871855e-17</td>\n",
              "      <td>5.929286e-16</td>\n",
              "      <td>-2.346385e-16</td>\n",
              "      <td>1.099645e-15</td>\n",
              "      <td>-1.388725e-15</td>\n",
              "      <td>-2.287414e-16</td>\n",
              "      <td>9.146779e-16</td>\n",
              "      <td>-0.044246</td>\n",
              "      <td>-0.097733</td>\n",
              "    </tr>\n",
              "    <tr>\n",
              "      <th>V10</th>\n",
              "      <td>7.433820e-17</td>\n",
              "      <td>-4.782388e-16</td>\n",
              "      <td>6.289267e-16</td>\n",
              "      <td>6.055490e-16</td>\n",
              "      <td>-6.601716e-16</td>\n",
              "      <td>2.850776e-16</td>\n",
              "      <td>3.043333e-17</td>\n",
              "      <td>9.051847e-17</td>\n",
              "      <td>-2.771761e-16</td>\n",
              "      <td>1.000000e+00</td>\n",
              "      <td>2.624448e-16</td>\n",
              "      <td>1.439907e-15</td>\n",
              "      <td>-8.853582e-16</td>\n",
              "      <td>2.622513e-16</td>\n",
              "      <td>7.615272e-16</td>\n",
              "      <td>-1.705923e-15</td>\n",
              "      <td>3.674182e-15</td>\n",
              "      <td>3.986710e-16</td>\n",
              "      <td>2.663038e-17</td>\n",
              "      <td>-1.141888e-15</td>\n",
              "      <td>8.089504e-16</td>\n",
              "      <td>-6.707598e-16</td>\n",
              "      <td>3.809732e-16</td>\n",
              "      <td>-4.032806e-17</td>\n",
              "      <td>-2.863813e-16</td>\n",
              "      <td>-2.554293e-16</td>\n",
              "      <td>-3.103239e-16</td>\n",
              "      <td>-1.515934e-16</td>\n",
              "      <td>-0.101502</td>\n",
              "      <td>-0.216883</td>\n",
              "    </tr>\n",
              "    <tr>\n",
              "      <th>V11</th>\n",
              "      <td>2.438580e-16</td>\n",
              "      <td>9.468995e-16</td>\n",
              "      <td>-5.501758e-17</td>\n",
              "      <td>-2.083600e-16</td>\n",
              "      <td>7.342759e-16</td>\n",
              "      <td>4.865799e-16</td>\n",
              "      <td>-1.084105e-15</td>\n",
              "      <td>1.954747e-16</td>\n",
              "      <td>4.682341e-16</td>\n",
              "      <td>2.624448e-16</td>\n",
              "      <td>1.000000e+00</td>\n",
              "      <td>3.176029e-15</td>\n",
              "      <td>1.945810e-15</td>\n",
              "      <td>3.637160e-17</td>\n",
              "      <td>4.801345e-16</td>\n",
              "      <td>-6.173867e-16</td>\n",
              "      <td>8.719713e-16</td>\n",
              "      <td>5.978229e-16</td>\n",
              "      <td>3.216338e-16</td>\n",
              "      <td>-2.310189e-16</td>\n",
              "      <td>-3.911893e-16</td>\n",
              "      <td>-3.811640e-17</td>\n",
              "      <td>2.232007e-16</td>\n",
              "      <td>1.219849e-15</td>\n",
              "      <td>-4.567635e-16</td>\n",
              "      <td>-1.110976e-16</td>\n",
              "      <td>-2.635827e-16</td>\n",
              "      <td>-3.091914e-16</td>\n",
              "      <td>0.000104</td>\n",
              "      <td>0.154876</td>\n",
              "    </tr>\n",
              "    <tr>\n",
              "      <th>V12</th>\n",
              "      <td>2.422086e-16</td>\n",
              "      <td>-6.588252e-16</td>\n",
              "      <td>2.206522e-16</td>\n",
              "      <td>-5.657963e-16</td>\n",
              "      <td>3.761033e-16</td>\n",
              "      <td>2.140589e-16</td>\n",
              "      <td>1.510045e-15</td>\n",
              "      <td>-6.266057e-17</td>\n",
              "      <td>-2.445230e-15</td>\n",
              "      <td>1.439907e-15</td>\n",
              "      <td>3.176029e-15</td>\n",
              "      <td>1.000000e+00</td>\n",
              "      <td>-2.306149e-14</td>\n",
              "      <td>1.761652e-16</td>\n",
              "      <td>8.858186e-16</td>\n",
              "      <td>3.530418e-16</td>\n",
              "      <td>-9.869814e-16</td>\n",
              "      <td>-5.881814e-16</td>\n",
              "      <td>9.282566e-17</td>\n",
              "      <td>1.276976e-16</td>\n",
              "      <td>3.229576e-16</td>\n",
              "      <td>-5.903992e-16</td>\n",
              "      <td>1.392162e-16</td>\n",
              "      <td>4.901644e-16</td>\n",
              "      <td>5.053736e-16</td>\n",
              "      <td>-5.759321e-16</td>\n",
              "      <td>-2.312619e-16</td>\n",
              "      <td>7.327446e-16</td>\n",
              "      <td>-0.009542</td>\n",
              "      <td>-0.260593</td>\n",
              "    </tr>\n",
              "    <tr>\n",
              "      <th>V13</th>\n",
              "      <td>-2.115458e-16</td>\n",
              "      <td>3.854521e-16</td>\n",
              "      <td>-6.883375e-16</td>\n",
              "      <td>-1.506129e-16</td>\n",
              "      <td>-9.578659e-16</td>\n",
              "      <td>-2.268061e-16</td>\n",
              "      <td>-9.892325e-17</td>\n",
              "      <td>-2.382948e-16</td>\n",
              "      <td>-2.650351e-16</td>\n",
              "      <td>-8.853582e-16</td>\n",
              "      <td>1.945810e-15</td>\n",
              "      <td>-2.306149e-14</td>\n",
              "      <td>1.000000e+00</td>\n",
              "      <td>2.841428e-15</td>\n",
              "      <td>-4.728048e-16</td>\n",
              "      <td>3.361767e-16</td>\n",
              "      <td>-3.187905e-16</td>\n",
              "      <td>3.192535e-16</td>\n",
              "      <td>-2.594988e-16</td>\n",
              "      <td>2.345665e-18</td>\n",
              "      <td>9.499130e-17</td>\n",
              "      <td>-2.659710e-17</td>\n",
              "      <td>-5.884304e-16</td>\n",
              "      <td>-5.470547e-16</td>\n",
              "      <td>8.066738e-17</td>\n",
              "      <td>-2.121518e-16</td>\n",
              "      <td>-4.520414e-16</td>\n",
              "      <td>1.049541e-15</td>\n",
              "      <td>0.005293</td>\n",
              "      <td>-0.004570</td>\n",
              "    </tr>\n",
              "    <tr>\n",
              "      <th>V14</th>\n",
              "      <td>9.352582e-16</td>\n",
              "      <td>-2.541036e-16</td>\n",
              "      <td>4.271336e-16</td>\n",
              "      <td>-8.522435e-17</td>\n",
              "      <td>-3.634803e-16</td>\n",
              "      <td>3.452801e-16</td>\n",
              "      <td>-1.729462e-16</td>\n",
              "      <td>-1.131098e-16</td>\n",
              "      <td>2.343317e-16</td>\n",
              "      <td>2.622513e-16</td>\n",
              "      <td>3.637160e-17</td>\n",
              "      <td>1.761652e-16</td>\n",
              "      <td>2.841428e-15</td>\n",
              "      <td>1.000000e+00</td>\n",
              "      <td>4.165738e-17</td>\n",
              "      <td>7.910367e-17</td>\n",
              "      <td>4.626140e-15</td>\n",
              "      <td>8.980955e-17</td>\n",
              "      <td>-1.061486e-16</td>\n",
              "      <td>-1.789433e-16</td>\n",
              "      <td>1.634141e-17</td>\n",
              "      <td>3.439699e-16</td>\n",
              "      <td>7.620728e-17</td>\n",
              "      <td>2.335749e-16</td>\n",
              "      <td>-2.606783e-16</td>\n",
              "      <td>-6.580254e-18</td>\n",
              "      <td>1.285770e-16</td>\n",
              "      <td>2.503271e-15</td>\n",
              "      <td>0.033751</td>\n",
              "      <td>-0.302544</td>\n",
              "    </tr>\n",
              "    <tr>\n",
              "      <th>V15</th>\n",
              "      <td>-3.252451e-16</td>\n",
              "      <td>2.831060e-16</td>\n",
              "      <td>1.122756e-16</td>\n",
              "      <td>-1.507718e-16</td>\n",
              "      <td>-5.132620e-16</td>\n",
              "      <td>-6.368111e-18</td>\n",
              "      <td>1.936832e-17</td>\n",
              "      <td>2.021491e-16</td>\n",
              "      <td>-1.588105e-15</td>\n",
              "      <td>7.615272e-16</td>\n",
              "      <td>4.801345e-16</td>\n",
              "      <td>8.858186e-16</td>\n",
              "      <td>-4.728048e-16</td>\n",
              "      <td>4.165738e-17</td>\n",
              "      <td>1.000000e+00</td>\n",
              "      <td>1.335904e-15</td>\n",
              "      <td>3.208310e-16</td>\n",
              "      <td>7.538156e-16</td>\n",
              "      <td>-8.556257e-16</td>\n",
              "      <td>3.240475e-16</td>\n",
              "      <td>1.947458e-17</td>\n",
              "      <td>-8.936817e-16</td>\n",
              "      <td>1.119827e-16</td>\n",
              "      <td>-4.589689e-16</td>\n",
              "      <td>3.869740e-16</td>\n",
              "      <td>3.761094e-16</td>\n",
              "      <td>-1.265235e-15</td>\n",
              "      <td>-1.063286e-15</td>\n",
              "      <td>-0.002986</td>\n",
              "      <td>-0.004223</td>\n",
              "    </tr>\n",
              "    <tr>\n",
              "      <th>V16</th>\n",
              "      <td>6.308789e-16</td>\n",
              "      <td>4.934097e-17</td>\n",
              "      <td>1.183364e-15</td>\n",
              "      <td>-6.939204e-16</td>\n",
              "      <td>-3.517076e-16</td>\n",
              "      <td>-2.477917e-16</td>\n",
              "      <td>2.893672e-16</td>\n",
              "      <td>5.027192e-16</td>\n",
              "      <td>-3.251906e-16</td>\n",
              "      <td>-1.705923e-15</td>\n",
              "      <td>-6.173867e-16</td>\n",
              "      <td>3.530418e-16</td>\n",
              "      <td>3.361767e-16</td>\n",
              "      <td>7.910367e-17</td>\n",
              "      <td>1.335904e-15</td>\n",
              "      <td>1.000000e+00</td>\n",
              "      <td>1.854297e-15</td>\n",
              "      <td>-3.015119e-15</td>\n",
              "      <td>1.041659e-15</td>\n",
              "      <td>3.903456e-16</td>\n",
              "      <td>-3.927401e-16</td>\n",
              "      <td>3.878384e-17</td>\n",
              "      <td>8.519670e-16</td>\n",
              "      <td>-4.289239e-16</td>\n",
              "      <td>-6.644104e-16</td>\n",
              "      <td>-5.186503e-16</td>\n",
              "      <td>7.820038e-16</td>\n",
              "      <td>8.637186e-16</td>\n",
              "      <td>-0.003910</td>\n",
              "      <td>-0.196539</td>\n",
              "    </tr>\n",
              "    <tr>\n",
              "      <th>V17</th>\n",
              "      <td>-5.011524e-16</td>\n",
              "      <td>-9.883008e-16</td>\n",
              "      <td>4.576619e-17</td>\n",
              "      <td>-4.397925e-16</td>\n",
              "      <td>1.425729e-16</td>\n",
              "      <td>3.567582e-16</td>\n",
              "      <td>1.149692e-15</td>\n",
              "      <td>-3.508777e-16</td>\n",
              "      <td>6.535992e-16</td>\n",
              "      <td>3.674182e-15</td>\n",
              "      <td>8.719713e-16</td>\n",
              "      <td>-9.869814e-16</td>\n",
              "      <td>-3.187905e-16</td>\n",
              "      <td>4.626140e-15</td>\n",
              "      <td>3.208310e-16</td>\n",
              "      <td>1.854297e-15</td>\n",
              "      <td>1.000000e+00</td>\n",
              "      <td>-5.584714e-15</td>\n",
              "      <td>-3.916791e-16</td>\n",
              "      <td>-9.887431e-16</td>\n",
              "      <td>-7.753967e-16</td>\n",
              "      <td>-8.389703e-16</td>\n",
              "      <td>5.367784e-16</td>\n",
              "      <td>-5.543631e-17</td>\n",
              "      <td>4.822068e-16</td>\n",
              "      <td>4.870302e-16</td>\n",
              "      <td>8.844373e-16</td>\n",
              "      <td>-2.182692e-16</td>\n",
              "      <td>0.007309</td>\n",
              "      <td>-0.326481</td>\n",
              "    </tr>\n",
              "    <tr>\n",
              "      <th>V18</th>\n",
              "      <td>2.870125e-16</td>\n",
              "      <td>2.636654e-16</td>\n",
              "      <td>5.427965e-16</td>\n",
              "      <td>1.493667e-16</td>\n",
              "      <td>1.109525e-15</td>\n",
              "      <td>2.811474e-16</td>\n",
              "      <td>-1.116789e-16</td>\n",
              "      <td>-4.093852e-16</td>\n",
              "      <td>1.203843e-16</td>\n",
              "      <td>3.986710e-16</td>\n",
              "      <td>5.978229e-16</td>\n",
              "      <td>-5.881814e-16</td>\n",
              "      <td>3.192535e-16</td>\n",
              "      <td>8.980955e-17</td>\n",
              "      <td>7.538156e-16</td>\n",
              "      <td>-3.015119e-15</td>\n",
              "      <td>-5.584714e-15</td>\n",
              "      <td>1.000000e+00</td>\n",
              "      <td>-2.424185e-15</td>\n",
              "      <td>-4.942764e-16</td>\n",
              "      <td>-1.140973e-15</td>\n",
              "      <td>-8.662635e-17</td>\n",
              "      <td>-3.624236e-16</td>\n",
              "      <td>-1.126043e-16</td>\n",
              "      <td>-2.310856e-16</td>\n",
              "      <td>3.183964e-16</td>\n",
              "      <td>2.435170e-16</td>\n",
              "      <td>8.844995e-16</td>\n",
              "      <td>0.035650</td>\n",
              "      <td>-0.111485</td>\n",
              "    </tr>\n",
              "    <tr>\n",
              "      <th>V19</th>\n",
              "      <td>1.818128e-16</td>\n",
              "      <td>9.528280e-17</td>\n",
              "      <td>2.576773e-16</td>\n",
              "      <td>-2.656938e-16</td>\n",
              "      <td>-3.138234e-16</td>\n",
              "      <td>2.717167e-16</td>\n",
              "      <td>-2.874017e-16</td>\n",
              "      <td>-5.339821e-16</td>\n",
              "      <td>1.120752e-16</td>\n",
              "      <td>2.663038e-17</td>\n",
              "      <td>3.216338e-16</td>\n",
              "      <td>9.282566e-17</td>\n",
              "      <td>-2.594988e-16</td>\n",
              "      <td>-1.061486e-16</td>\n",
              "      <td>-8.556257e-16</td>\n",
              "      <td>1.041659e-15</td>\n",
              "      <td>-3.916791e-16</td>\n",
              "      <td>-2.424185e-15</td>\n",
              "      <td>1.000000e+00</td>\n",
              "      <td>2.938450e-16</td>\n",
              "      <td>4.032541e-16</td>\n",
              "      <td>-9.690436e-16</td>\n",
              "      <td>5.733798e-16</td>\n",
              "      <td>3.126716e-17</td>\n",
              "      <td>7.415355e-16</td>\n",
              "      <td>5.614354e-16</td>\n",
              "      <td>-1.113035e-16</td>\n",
              "      <td>-1.375843e-15</td>\n",
              "      <td>-0.056151</td>\n",
              "      <td>0.034783</td>\n",
              "    </tr>\n",
              "    <tr>\n",
              "      <th>V20</th>\n",
              "      <td>1.036959e-16</td>\n",
              "      <td>-9.309954e-16</td>\n",
              "      <td>-9.429297e-16</td>\n",
              "      <td>-3.223123e-16</td>\n",
              "      <td>2.076048e-16</td>\n",
              "      <td>1.898638e-16</td>\n",
              "      <td>1.744242e-16</td>\n",
              "      <td>-1.095534e-16</td>\n",
              "      <td>-4.340941e-16</td>\n",
              "      <td>-1.141888e-15</td>\n",
              "      <td>-2.310189e-16</td>\n",
              "      <td>1.276976e-16</td>\n",
              "      <td>2.345665e-18</td>\n",
              "      <td>-1.789433e-16</td>\n",
              "      <td>3.240475e-16</td>\n",
              "      <td>3.903456e-16</td>\n",
              "      <td>-9.887431e-16</td>\n",
              "      <td>-4.942764e-16</td>\n",
              "      <td>2.938450e-16</td>\n",
              "      <td>1.000000e+00</td>\n",
              "      <td>-1.120828e-15</td>\n",
              "      <td>1.105842e-15</td>\n",
              "      <td>4.986739e-16</td>\n",
              "      <td>1.637488e-16</td>\n",
              "      <td>-1.518242e-16</td>\n",
              "      <td>-2.975081e-16</td>\n",
              "      <td>-1.446069e-15</td>\n",
              "      <td>-1.133579e-16</td>\n",
              "      <td>0.339403</td>\n",
              "      <td>0.020090</td>\n",
              "    </tr>\n",
              "    <tr>\n",
              "      <th>V21</th>\n",
              "      <td>-1.755072e-16</td>\n",
              "      <td>8.444409e-17</td>\n",
              "      <td>-2.971969e-17</td>\n",
              "      <td>-9.976950e-17</td>\n",
              "      <td>-1.368701e-16</td>\n",
              "      <td>-1.575903e-16</td>\n",
              "      <td>1.938604e-16</td>\n",
              "      <td>-2.412439e-16</td>\n",
              "      <td>4.578389e-17</td>\n",
              "      <td>8.089504e-16</td>\n",
              "      <td>-3.911893e-16</td>\n",
              "      <td>3.229576e-16</td>\n",
              "      <td>9.499130e-17</td>\n",
              "      <td>1.634141e-17</td>\n",
              "      <td>1.947458e-17</td>\n",
              "      <td>-3.927401e-16</td>\n",
              "      <td>-7.753967e-16</td>\n",
              "      <td>-1.140973e-15</td>\n",
              "      <td>4.032541e-16</td>\n",
              "      <td>-1.120828e-15</td>\n",
              "      <td>1.000000e+00</td>\n",
              "      <td>3.905948e-15</td>\n",
              "      <td>6.127323e-16</td>\n",
              "      <td>1.298254e-16</td>\n",
              "      <td>-2.826293e-16</td>\n",
              "      <td>-4.907301e-16</td>\n",
              "      <td>-1.033403e-15</td>\n",
              "      <td>5.132234e-16</td>\n",
              "      <td>0.105999</td>\n",
              "      <td>0.040413</td>\n",
              "    </tr>\n",
              "    <tr>\n",
              "      <th>V22</th>\n",
              "      <td>7.477367e-17</td>\n",
              "      <td>2.500830e-16</td>\n",
              "      <td>4.648259e-16</td>\n",
              "      <td>2.099922e-16</td>\n",
              "      <td>5.060029e-16</td>\n",
              "      <td>-3.362902e-16</td>\n",
              "      <td>-1.058131e-15</td>\n",
              "      <td>5.475559e-16</td>\n",
              "      <td>2.871855e-17</td>\n",
              "      <td>-6.707598e-16</td>\n",
              "      <td>-3.811640e-17</td>\n",
              "      <td>-5.903992e-16</td>\n",
              "      <td>-2.659710e-17</td>\n",
              "      <td>3.439699e-16</td>\n",
              "      <td>-8.936817e-16</td>\n",
              "      <td>3.878384e-17</td>\n",
              "      <td>-8.389703e-16</td>\n",
              "      <td>-8.662635e-17</td>\n",
              "      <td>-9.690436e-16</td>\n",
              "      <td>1.105842e-15</td>\n",
              "      <td>3.905948e-15</td>\n",
              "      <td>1.000000e+00</td>\n",
              "      <td>3.130812e-16</td>\n",
              "      <td>1.150829e-17</td>\n",
              "      <td>-6.078986e-16</td>\n",
              "      <td>-8.477050e-16</td>\n",
              "      <td>-1.294910e-16</td>\n",
              "      <td>-3.021376e-16</td>\n",
              "      <td>-0.064801</td>\n",
              "      <td>0.000805</td>\n",
              "    </tr>\n",
              "    <tr>\n",
              "      <th>V23</th>\n",
              "      <td>9.808705e-16</td>\n",
              "      <td>1.059562e-16</td>\n",
              "      <td>2.115206e-17</td>\n",
              "      <td>6.002528e-17</td>\n",
              "      <td>1.637596e-16</td>\n",
              "      <td>-7.232186e-17</td>\n",
              "      <td>2.327911e-16</td>\n",
              "      <td>3.897104e-16</td>\n",
              "      <td>5.929286e-16</td>\n",
              "      <td>3.809732e-16</td>\n",
              "      <td>2.232007e-16</td>\n",
              "      <td>1.392162e-16</td>\n",
              "      <td>-5.884304e-16</td>\n",
              "      <td>7.620728e-17</td>\n",
              "      <td>1.119827e-16</td>\n",
              "      <td>8.519670e-16</td>\n",
              "      <td>5.367784e-16</td>\n",
              "      <td>-3.624236e-16</td>\n",
              "      <td>5.733798e-16</td>\n",
              "      <td>4.986739e-16</td>\n",
              "      <td>6.127323e-16</td>\n",
              "      <td>3.130812e-16</td>\n",
              "      <td>1.000000e+00</td>\n",
              "      <td>-4.411271e-17</td>\n",
              "      <td>-9.938362e-16</td>\n",
              "      <td>8.848700e-16</td>\n",
              "      <td>5.524044e-16</td>\n",
              "      <td>9.029821e-16</td>\n",
              "      <td>-0.112633</td>\n",
              "      <td>-0.002685</td>\n",
              "    </tr>\n",
              "    <tr>\n",
              "      <th>V24</th>\n",
              "      <td>7.354269e-17</td>\n",
              "      <td>-8.142354e-18</td>\n",
              "      <td>-9.351637e-17</td>\n",
              "      <td>2.229738e-16</td>\n",
              "      <td>-9.286095e-16</td>\n",
              "      <td>-1.261867e-15</td>\n",
              "      <td>-2.589727e-17</td>\n",
              "      <td>-1.802967e-16</td>\n",
              "      <td>-2.346385e-16</td>\n",
              "      <td>-4.032806e-17</td>\n",
              "      <td>1.219849e-15</td>\n",
              "      <td>4.901644e-16</td>\n",
              "      <td>-5.470547e-16</td>\n",
              "      <td>2.335749e-16</td>\n",
              "      <td>-4.589689e-16</td>\n",
              "      <td>-4.289239e-16</td>\n",
              "      <td>-5.543631e-17</td>\n",
              "      <td>-1.126043e-16</td>\n",
              "      <td>3.126716e-17</td>\n",
              "      <td>1.637488e-16</td>\n",
              "      <td>1.298254e-16</td>\n",
              "      <td>1.150829e-17</td>\n",
              "      <td>-4.411271e-17</td>\n",
              "      <td>1.000000e+00</td>\n",
              "      <td>1.557318e-15</td>\n",
              "      <td>3.129195e-16</td>\n",
              "      <td>-3.736529e-16</td>\n",
              "      <td>-2.259275e-16</td>\n",
              "      <td>0.005146</td>\n",
              "      <td>-0.007221</td>\n",
              "    </tr>\n",
              "    <tr>\n",
              "      <th>V25</th>\n",
              "      <td>-9.805358e-16</td>\n",
              "      <td>-4.261894e-17</td>\n",
              "      <td>4.771164e-16</td>\n",
              "      <td>5.394585e-16</td>\n",
              "      <td>5.625102e-16</td>\n",
              "      <td>1.081933e-15</td>\n",
              "      <td>1.174169e-15</td>\n",
              "      <td>-1.390791e-16</td>\n",
              "      <td>1.099645e-15</td>\n",
              "      <td>-2.863813e-16</td>\n",
              "      <td>-4.567635e-16</td>\n",
              "      <td>5.053736e-16</td>\n",
              "      <td>8.066738e-17</td>\n",
              "      <td>-2.606783e-16</td>\n",
              "      <td>3.869740e-16</td>\n",
              "      <td>-6.644104e-16</td>\n",
              "      <td>4.822068e-16</td>\n",
              "      <td>-2.310856e-16</td>\n",
              "      <td>7.415355e-16</td>\n",
              "      <td>-1.518242e-16</td>\n",
              "      <td>-2.826293e-16</td>\n",
              "      <td>-6.078986e-16</td>\n",
              "      <td>-9.938362e-16</td>\n",
              "      <td>1.557318e-15</td>\n",
              "      <td>1.000000e+00</td>\n",
              "      <td>2.810884e-15</td>\n",
              "      <td>-6.107118e-16</td>\n",
              "      <td>3.399375e-16</td>\n",
              "      <td>-0.047837</td>\n",
              "      <td>0.003308</td>\n",
              "    </tr>\n",
              "    <tr>\n",
              "      <th>V26</th>\n",
              "      <td>-8.621897e-17</td>\n",
              "      <td>2.601622e-16</td>\n",
              "      <td>6.521501e-16</td>\n",
              "      <td>-6.179751e-16</td>\n",
              "      <td>9.144690e-16</td>\n",
              "      <td>-2.378414e-16</td>\n",
              "      <td>-7.334507e-16</td>\n",
              "      <td>-1.209975e-16</td>\n",
              "      <td>-1.388725e-15</td>\n",
              "      <td>-2.554293e-16</td>\n",
              "      <td>-1.110976e-16</td>\n",
              "      <td>-5.759321e-16</td>\n",
              "      <td>-2.121518e-16</td>\n",
              "      <td>-6.580254e-18</td>\n",
              "      <td>3.761094e-16</td>\n",
              "      <td>-5.186503e-16</td>\n",
              "      <td>4.870302e-16</td>\n",
              "      <td>3.183964e-16</td>\n",
              "      <td>5.614354e-16</td>\n",
              "      <td>-2.975081e-16</td>\n",
              "      <td>-4.907301e-16</td>\n",
              "      <td>-8.477050e-16</td>\n",
              "      <td>8.848700e-16</td>\n",
              "      <td>3.129195e-16</td>\n",
              "      <td>2.810884e-15</td>\n",
              "      <td>1.000000e+00</td>\n",
              "      <td>-3.383861e-16</td>\n",
              "      <td>-3.751403e-16</td>\n",
              "      <td>-0.003208</td>\n",
              "      <td>0.004455</td>\n",
              "    </tr>\n",
              "    <tr>\n",
              "      <th>V27</th>\n",
              "      <td>3.208233e-17</td>\n",
              "      <td>-4.478472e-16</td>\n",
              "      <td>6.239832e-16</td>\n",
              "      <td>-6.403423e-17</td>\n",
              "      <td>4.465960e-16</td>\n",
              "      <td>-2.623818e-16</td>\n",
              "      <td>-5.886825e-16</td>\n",
              "      <td>1.733633e-16</td>\n",
              "      <td>-2.287414e-16</td>\n",
              "      <td>-3.103239e-16</td>\n",
              "      <td>-2.635827e-16</td>\n",
              "      <td>-2.312619e-16</td>\n",
              "      <td>-4.520414e-16</td>\n",
              "      <td>1.285770e-16</td>\n",
              "      <td>-1.265235e-15</td>\n",
              "      <td>7.820038e-16</td>\n",
              "      <td>8.844373e-16</td>\n",
              "      <td>2.435170e-16</td>\n",
              "      <td>-1.113035e-16</td>\n",
              "      <td>-1.446069e-15</td>\n",
              "      <td>-1.033403e-15</td>\n",
              "      <td>-1.294910e-16</td>\n",
              "      <td>5.524044e-16</td>\n",
              "      <td>-3.736529e-16</td>\n",
              "      <td>-6.107118e-16</td>\n",
              "      <td>-3.383861e-16</td>\n",
              "      <td>1.000000e+00</td>\n",
              "      <td>-3.770124e-16</td>\n",
              "      <td>0.028825</td>\n",
              "      <td>0.017580</td>\n",
              "    </tr>\n",
              "    <tr>\n",
              "      <th>V28</th>\n",
              "      <td>9.820892e-16</td>\n",
              "      <td>-3.676415e-16</td>\n",
              "      <td>7.726948e-16</td>\n",
              "      <td>-5.863664e-17</td>\n",
              "      <td>-3.299167e-16</td>\n",
              "      <td>4.813155e-16</td>\n",
              "      <td>-6.836764e-17</td>\n",
              "      <td>-4.484325e-16</td>\n",
              "      <td>9.146779e-16</td>\n",
              "      <td>-1.515934e-16</td>\n",
              "      <td>-3.091914e-16</td>\n",
              "      <td>7.327446e-16</td>\n",
              "      <td>1.049541e-15</td>\n",
              "      <td>2.503271e-15</td>\n",
              "      <td>-1.063286e-15</td>\n",
              "      <td>8.637186e-16</td>\n",
              "      <td>-2.182692e-16</td>\n",
              "      <td>8.844995e-16</td>\n",
              "      <td>-1.375843e-15</td>\n",
              "      <td>-1.133579e-16</td>\n",
              "      <td>5.132234e-16</td>\n",
              "      <td>-3.021376e-16</td>\n",
              "      <td>9.029821e-16</td>\n",
              "      <td>-2.259275e-16</td>\n",
              "      <td>3.399375e-16</td>\n",
              "      <td>-3.751403e-16</td>\n",
              "      <td>-3.770124e-16</td>\n",
              "      <td>1.000000e+00</td>\n",
              "      <td>0.010258</td>\n",
              "      <td>0.009536</td>\n",
              "    </tr>\n",
              "    <tr>\n",
              "      <th>Amount</th>\n",
              "      <td>-2.277087e-01</td>\n",
              "      <td>-5.314089e-01</td>\n",
              "      <td>-2.108805e-01</td>\n",
              "      <td>9.873167e-02</td>\n",
              "      <td>-3.863563e-01</td>\n",
              "      <td>2.159812e-01</td>\n",
              "      <td>3.973113e-01</td>\n",
              "      <td>-1.030791e-01</td>\n",
              "      <td>-4.424560e-02</td>\n",
              "      <td>-1.015021e-01</td>\n",
              "      <td>1.039770e-04</td>\n",
              "      <td>-9.541802e-03</td>\n",
              "      <td>5.293409e-03</td>\n",
              "      <td>3.375117e-02</td>\n",
              "      <td>-2.985848e-03</td>\n",
              "      <td>-3.909527e-03</td>\n",
              "      <td>7.309042e-03</td>\n",
              "      <td>3.565034e-02</td>\n",
              "      <td>-5.615079e-02</td>\n",
              "      <td>3.394034e-01</td>\n",
              "      <td>1.059989e-01</td>\n",
              "      <td>-6.480065e-02</td>\n",
              "      <td>-1.126326e-01</td>\n",
              "      <td>5.146217e-03</td>\n",
              "      <td>-4.783686e-02</td>\n",
              "      <td>-3.208037e-03</td>\n",
              "      <td>2.882546e-02</td>\n",
              "      <td>1.025822e-02</td>\n",
              "      <td>1.000000</td>\n",
              "      <td>0.005632</td>\n",
              "    </tr>\n",
              "    <tr>\n",
              "      <th>Class</th>\n",
              "      <td>-1.013473e-01</td>\n",
              "      <td>9.128865e-02</td>\n",
              "      <td>-1.929608e-01</td>\n",
              "      <td>1.334475e-01</td>\n",
              "      <td>-9.497430e-02</td>\n",
              "      <td>-4.364316e-02</td>\n",
              "      <td>-1.872566e-01</td>\n",
              "      <td>1.987512e-02</td>\n",
              "      <td>-9.773269e-02</td>\n",
              "      <td>-2.168829e-01</td>\n",
              "      <td>1.548756e-01</td>\n",
              "      <td>-2.605929e-01</td>\n",
              "      <td>-4.569779e-03</td>\n",
              "      <td>-3.025437e-01</td>\n",
              "      <td>-4.223402e-03</td>\n",
              "      <td>-1.965389e-01</td>\n",
              "      <td>-3.264811e-01</td>\n",
              "      <td>-1.114853e-01</td>\n",
              "      <td>3.478301e-02</td>\n",
              "      <td>2.009032e-02</td>\n",
              "      <td>4.041338e-02</td>\n",
              "      <td>8.053175e-04</td>\n",
              "      <td>-2.685156e-03</td>\n",
              "      <td>-7.220907e-03</td>\n",
              "      <td>3.307706e-03</td>\n",
              "      <td>4.455398e-03</td>\n",
              "      <td>1.757973e-02</td>\n",
              "      <td>9.536041e-03</td>\n",
              "      <td>0.005632</td>\n",
              "      <td>1.000000</td>\n",
              "    </tr>\n",
              "  </tbody>\n",
              "</table>\n",
              "</div>"
            ],
            "text/plain": [
              "                  V1            V2  ...    Amount     Class\n",
              "V1      1.000000e+00  4.697350e-17  ... -0.227709 -0.101347\n",
              "V2      4.697350e-17  1.000000e+00  ... -0.531409  0.091289\n",
              "V3     -1.424390e-15  2.512175e-16  ... -0.210880 -0.192961\n",
              "V4      1.755316e-17 -1.126388e-16  ...  0.098732  0.133447\n",
              "V5      6.391162e-17 -2.039868e-16  ... -0.386356 -0.094974\n",
              "V6      2.398071e-16  5.024680e-16  ...  0.215981 -0.043643\n",
              "V7      1.991550e-15  3.966486e-16  ...  0.397311 -0.187257\n",
              "V8     -9.490675e-17 -4.413984e-17  ... -0.103079  0.019875\n",
              "V9      2.169581e-16 -5.728718e-17  ... -0.044246 -0.097733\n",
              "V10     7.433820e-17 -4.782388e-16  ... -0.101502 -0.216883\n",
              "V11     2.438580e-16  9.468995e-16  ...  0.000104  0.154876\n",
              "V12     2.422086e-16 -6.588252e-16  ... -0.009542 -0.260593\n",
              "V13    -2.115458e-16  3.854521e-16  ...  0.005293 -0.004570\n",
              "V14     9.352582e-16 -2.541036e-16  ...  0.033751 -0.302544\n",
              "V15    -3.252451e-16  2.831060e-16  ... -0.002986 -0.004223\n",
              "V16     6.308789e-16  4.934097e-17  ... -0.003910 -0.196539\n",
              "V17    -5.011524e-16 -9.883008e-16  ...  0.007309 -0.326481\n",
              "V18     2.870125e-16  2.636654e-16  ...  0.035650 -0.111485\n",
              "V19     1.818128e-16  9.528280e-17  ... -0.056151  0.034783\n",
              "V20     1.036959e-16 -9.309954e-16  ...  0.339403  0.020090\n",
              "V21    -1.755072e-16  8.444409e-17  ...  0.105999  0.040413\n",
              "V22     7.477367e-17  2.500830e-16  ... -0.064801  0.000805\n",
              "V23     9.808705e-16  1.059562e-16  ... -0.112633 -0.002685\n",
              "V24     7.354269e-17 -8.142354e-18  ...  0.005146 -0.007221\n",
              "V25    -9.805358e-16 -4.261894e-17  ... -0.047837  0.003308\n",
              "V26    -8.621897e-17  2.601622e-16  ... -0.003208  0.004455\n",
              "V27     3.208233e-17 -4.478472e-16  ...  0.028825  0.017580\n",
              "V28     9.820892e-16 -3.676415e-16  ...  0.010258  0.009536\n",
              "Amount -2.277087e-01 -5.314089e-01  ...  1.000000  0.005632\n",
              "Class  -1.013473e-01  9.128865e-02  ...  0.005632  1.000000\n",
              "\n",
              "[30 rows x 30 columns]"
            ]
          },
          "metadata": {},
          "execution_count": 19
        }
      ]
    },
    {
      "cell_type": "markdown",
      "metadata": {
        "id": "N43H_elEfnOy"
      },
      "source": [
        "Class와의 상관계수가 0.18 이상인 변수들 <br>\n",
        "V3 : -1.929608e-01 <br>\n",
        "V7 : -1.872566e-01 <br>\n",
        "V10 : -2.168829e-01\t<br>\n",
        "V12 : -2.605929e-01\t<br>\n",
        "V14 : -3.025437e-01\t<br>\n",
        "V16 : -1.965389e-01 <br>\n",
        "V17 : -3.264811e-01 <br>\n",
        "절대값이 높은 순 <br>\n",
        "V17 > V14 > V12 > V10 > V16 > V3 > V7"
      ]
    },
    {
      "cell_type": "code",
      "metadata": {
        "id": "qSJk3fwSflLT"
      },
      "source": [
        "Model_rf = RandomForestClassifier(n_estimators = 10,\n",
        "                                  max_features = 5,\n",
        "                                  random_state = 0,\n",
        "                                  n_jobs = -1)\n",
        "Model_rf.fit(X_train, y_train)\n",
        "y_hat = Model_rf.predict(X_test)"
      ],
      "execution_count": 22,
      "outputs": []
    },
    {
      "cell_type": "code",
      "metadata": {
        "colab": {
          "base_uri": "https://localhost:8080/"
        },
        "id": "HnSEhuYrfkZy",
        "outputId": "4a06934e-d18c-48d4-df4a-79c4e42acaf1"
      },
      "source": [
        "print(confusion_matrix(y_test, y_hat))\n",
        "print(accuracy_score(y_test, y_hat))\n",
        "print(Model_rf.feature_importances_)"
      ],
      "execution_count": 23,
      "outputs": [
        {
          "output_type": "stream",
          "name": "stdout",
          "text": [
            "[[85292     7]\n",
            " [   35   109]]\n",
            "0.9995084442259752\n",
            "[0.01333599 0.00684791 0.0159749  0.04141698 0.01032508 0.01851305\n",
            " 0.02941957 0.01768239 0.04176321 0.02924336 0.03730051 0.17184134\n",
            " 0.00737977 0.11724406 0.01265934 0.02801617 0.22425021 0.04169703\n",
            " 0.01256904 0.00874871 0.01838734 0.00843012 0.00814498 0.01466496\n",
            " 0.00575165 0.02260754 0.01529188 0.00803025 0.01246264]\n"
          ]
        }
      ]
    },
    {
      "cell_type": "code",
      "metadata": {
        "colab": {
          "base_uri": "https://localhost:8080/",
          "height": 374
        },
        "id": "qARAG5ifhfsP",
        "outputId": "6c532446-595e-46b2-8de0-5a032585811c"
      },
      "source": [
        "plt.figure(figsize = (9, 6))\n",
        "sns.barplot(Model_rf.feature_importances_,\n",
        "            DF.columns[:-1])\n",
        "plt.show()"
      ],
      "execution_count": 25,
      "outputs": [
        {
          "output_type": "display_data",
          "data": {
            "image/png": "[encoded data removed]",
            "text/plain": [
              "<Figure size 648x432 with 1 Axes>"
            ]
          },
          "metadata": {
            "needs_background": "light"
          }
        }
      ]
    },
    {
      "cell_type": "markdown",
      "metadata": {
        "id": "gZ02kseHiHwq"
      },
      "source": [
        "Feature Importances <br>\n",
        "V17 > V12 > V14 > V4 ~= V9 ~= V18 > V11 > V10 ~= V7 <br>\n",
        " <br>\n",
        "Correllation <br>\n",
        "V17 > V14 > V12 > V10 > V16 > V3 > V7 <br>\n",
        " <br>\n",
        "common factors <br>\n",
        "V17, V14, V12 <br>\n",
        " <br>\n",
        "--- <br>\n",
        " <br>\n",
        "log_2(284807) ~= 18 -> max_depth의 기준치(18++, starting point)로 정함<br>\n",
        "  18 21 25 30 40 55 ...\n",
        "sqrt(29) ~= 5 -> max_feature의 기준치로 정함(5 전, 후)\n",
        "  5 4 6 3 7 2 10 15 20"
      ]
    },
    {
      "cell_type": "code",
      "metadata": {
        "id": "BGHjm1Lni0DY"
      },
      "source": [
        "# Model_rf2 = RandomForestClassifier()\n",
        "# params = {'n_estimators':[100],\n",
        "#           'max_features':[4],\n",
        "#           'max_depth':[25],\n",
        "#           'random_state':[0]}\n",
        "# 위 코드로 일단 숫자를 작게해서 1case만 돌려보고(cv 포함), 실행시간 측정을 한 후\n",
        "# 몇 case를 돌릴지 정해보자\n",
        "# 10 4 25 0 으로 45초\n",
        "# 100 4 25 0 으로 555초(9분 15초) : 대충 tree 갯수에 비례한 시간...\n",
        "\n",
        "# 시간상 이정도만 돌려보자...\n",
        "# 예상시간 3*1*3*1*(45s) = 405초?\n",
        "# 실제시간 454초 (7분 34초)\n",
        "Model_rf2 = RandomForestClassifier()\n",
        "params = {'n_estimators':[10, 20],\n",
        "          'max_features':[5],\n",
        "          'max_depth':[15, 20, 25],\n",
        "          'random_state':[0]}\n",
        "\n",
        "\n",
        "# 원래 돌려보려고 했던 코드\n",
        "# Model_rf2 = RandomForestClassifier()\n",
        "# params = {'n_estimators':[100, 200, 400],\n",
        "#           'max_features':[4, 5, 6, 7],\n",
        "#           'max_depth':[15, 20, 25, 30],\n",
        "#           'random_state':[0]}\n"
      ],
      "execution_count": 55,
      "outputs": []
    },
    {
      "cell_type": "code",
      "metadata": {
        "id": "GQa8OZ5Zi5ap"
      },
      "source": [
        "grid_cv = GridSearchCV(Model_rf2,\n",
        "                       param_grid = params,\n",
        "                       scoring = 'accuracy',\n",
        "                       cv = KFold(n_splits = 3,\n",
        "                                  random_state = 0),\n",
        "                       refit = True,\n",
        "                       n_jobs = -1)\n"
      ],
      "execution_count": 56,
      "outputs": []
    },
    {
      "cell_type": "code",
      "metadata": {
        "colab": {
          "base_uri": "https://localhost:8080/"
        },
        "id": "gcOe1PF8i6HE",
        "outputId": "be3d0a75-3d5d-4c1b-8e5b-50cf94cfc3c7"
      },
      "source": [
        "%%time\n",
        "grid_cv.fit(X_train, y_train)"
      ],
      "execution_count": 57,
      "outputs": [
        {
          "output_type": "stream",
          "name": "stdout",
          "text": [
            "CPU times: user 57.1 s, sys: 573 ms, total: 57.7 s\n",
            "Wall time: 7min 34s\n"
          ]
        },
        {
          "output_type": "execute_result",
          "data": {
            "text/plain": [
              "GridSearchCV(cv=KFold(n_splits=3, random_state=0, shuffle=False),\n",
              "             error_score=nan,\n",
              "             estimator=RandomForestClassifier(bootstrap=True, ccp_alpha=0.0,\n",
              "                                              class_weight=None,\n",
              "                                              criterion='gini', max_depth=None,\n",
              "                                              max_features='auto',\n",
              "                                              max_leaf_nodes=None,\n",
              "                                              max_samples=None,\n",
              "                                              min_impurity_decrease=0.0,\n",
              "                                              min_impurity_split=None,\n",
              "                                              min_samples_leaf=1,\n",
              "                                              min_samples_split=2,\n",
              "                                              min_weight_fraction_leaf=0.0,\n",
              "                                              n_estimators=100, n_jobs=None,\n",
              "                                              oob_score=False,\n",
              "                                              random_state=None, verbose=0,\n",
              "                                              warm_start=False),\n",
              "             iid='deprecated', n_jobs=-1,\n",
              "             param_grid={'max_depth': [15, 20, 25], 'max_features': [5],\n",
              "                         'n_estimators': [10, 20], 'random_state': [0]},\n",
              "             pre_dispatch='2*n_jobs', refit=True, return_train_score=False,\n",
              "             scoring='accuracy', verbose=0)"
            ]
          },
          "metadata": {},
          "execution_count": 57
        }
      ]
    },
    {
      "cell_type": "code",
      "metadata": {
        "colab": {
          "base_uri": "https://localhost:8080/"
        },
        "id": "i8xQ5E-Fi68x",
        "outputId": "2c3799fb-8247-4f08-934e-65751a03df2c"
      },
      "source": [
        "print(grid_cv.best_score_)\n",
        "print(grid_cv.best_params_)"
      ],
      "execution_count": 58,
      "outputs": [
        {
          "output_type": "stream",
          "name": "stdout",
          "text": [
            "0.9994883726487993\n",
            "{'max_depth': 15, 'max_features': 5, 'n_estimators': 20, 'random_state': 0}\n"
          ]
        }
      ]
    },
    {
      "cell_type": "markdown",
      "metadata": {
        "id": "O_IsMMyvwfAe"
      },
      "source": [
        "max_depth = [15, 20, 25]에서 15일 때 가장 잘 나온 걸 보니, 더 키울 필욘 X\n",
        "n_estimators = [10, 20] 에서 20일 때 가장 잘 나온 걸 보니, 좀 더 크게 돌려봐야\n",
        "시간이 된다면 max_features case도 늘려봐야"
      ]
    },
    {
      "cell_type": "code",
      "metadata": {
        "colab": {
          "base_uri": "https://localhost:8080/"
        },
        "id": "nDBmHWlCsY0U",
        "outputId": "23fec519-b9ee-4d68-90f0-3e5ff3d0f9e7"
      },
      "source": [
        "Model_CV = grid_cv.best_estimator_\n",
        "y_hat = Model_CV.predict(X_test)\n",
        "print(confusion_matrix(y_test, y_hat))\n",
        "print(accuracy_score(y_test, y_hat))"
      ],
      "execution_count": 59,
      "outputs": [
        {
          "output_type": "stream",
          "name": "stdout",
          "text": [
            "[[85295     4]\n",
            " [   34   110]]\n",
            "0.9995552590615966\n"
          ]
        }
      ]
    },
    {
      "cell_type": "markdown",
      "metadata": {
        "id": "L-jY2X5Qxc0V"
      },
      "source": [
        "이제 positive <-> negative 위치를 바꾸고\n",
        "recall을 구하면..."
      ]
    },
    {
      "cell_type": "code",
      "metadata": {
        "id": "DtMbod8mi7hL"
      },
      "source": [
        ""
      ],
      "execution_count": null,
      "outputs": []
    },
    {
      "cell_type": "markdown",
      "metadata": {
        "id": "aCZ2K_IsK8Cp"
      },
      "source": [
        "#\n",
        "# \n",
        "# \n",
        "# The End\n",
        "# \n",
        "# \n",
        "# "
      ]
    },
    {
      "cell_type": "code",
      "metadata": {
        "id": "gpEyM_Pziwex"
      },
      "source": [
        ""
      ],
      "execution_count": null,
      "outputs": []
    }
  ]
}